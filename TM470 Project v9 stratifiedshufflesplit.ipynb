{
 "cells": [
  {
   "cell_type": "markdown",
   "id": "cbe037b9",
   "metadata": {},
   "source": [
    "# TM470 Project - Automating the Identification of UK Coarse Fish"
   ]
  },
  {
   "cell_type": "code",
   "execution_count": 1,
   "id": "2c501176",
   "metadata": {
    "scrolled": false
   },
   "outputs": [],
   "source": [
    "import tensorflow as tf\n",
    "import kaggle\n",
    "import pandas as pd\n",
    "import os\n",
    "import numpy as np\n",
    "import sklearn\n",
    "from sklearn.model_selection import StratifiedShuffleSplit #scikit-learn.org\n",
    "from sklearn.model_selection import train_test_split\n",
    "import pathlib\n",
    "import matplotlib\n",
    "import matplotlib.pyplot as plt\n",
    "import xml.etree.ElementTree as et # https://docs.python.org/3/library/xml.etree.elementtree.html\n",
    "from tensorflow.python.client import device_lib #for detection of devices\n",
    "import glob as glob # Searches for certain files\n",
    "# for model\n",
    "from tensorflow.keras import Sequential, optimizers, metrics, layers\n",
    "from keras.layers import Dense, Dropout, Activation, Flatten\n",
    "from keras.layers import Conv2D, MaxPooling2D"
   ]
  },
  {
   "cell_type": "code",
   "execution_count": 2,
   "id": "6641c79e",
   "metadata": {
    "scrolled": false
   },
   "outputs": [
    {
     "name": "stdout",
     "output_type": "stream",
     "text": [
      "2.6.0\n"
     ]
    }
   ],
   "source": [
    "# TensorFlow version\n",
    "print(tf.__version__)"
   ]
  },
  {
   "cell_type": "markdown",
   "id": "018b4078",
   "metadata": {},
   "source": [
    "### 3 Is TF using GPU acceleration from inside python shell."
   ]
  },
  {
   "cell_type": "code",
   "execution_count": null,
   "id": "0551ad11",
   "metadata": {
    "scrolled": false
   },
   "outputs": [],
   "source": [
    "# Is TF using GPU?\n",
    "if tf.test.gpu_device_name():\n",
    "    print('Default GPU device:{}'.format(tf.test.gpu_device_name()))\n",
    "else:\n",
    "    print(\"Please install GPU version of TF\")\n",
    "# Number of GPU's available\n",
    "print(\"Num GPUs Available: \", len(tf.config.list_physical_devices('GPU')))\n",
    "# Details of CPU and GPU from the device library (device_lib)\n",
    "print(device_lib.list_local_devices())"
   ]
  },
  {
   "cell_type": "markdown",
   "id": "e1fadafc",
   "metadata": {},
   "source": [
    "### AFFiNe dataset from Kaggle (list, download and unzip)"
   ]
  },
  {
   "cell_type": "code",
   "execution_count": null,
   "id": "c60b8a01",
   "metadata": {
    "scrolled": false
   },
   "outputs": [],
   "source": [
    "# List AFFiNe dataset from Kaggle datasets\n",
    "!kaggle datasets list -s jorritvenema/AFFiNe\n",
    "# List files in the AFFiNe dataset through Kaggle api\n",
    "!kaggle datasets files jorritvenema/AFFiNe"
   ]
  },
  {
   "cell_type": "code",
   "execution_count": null,
   "id": "334dc496",
   "metadata": {
    "scrolled": false
   },
   "outputs": [],
   "source": [
    "# Download and unzip dataset folder (only run once)\n",
    "#!kaggle datasets download jorritvenema/AFFiNe --unzip"
   ]
  },
  {
   "cell_type": "markdown",
   "id": "7b18c160",
   "metadata": {},
   "source": [
    "# Get class names and bound box information from XML files using the parser"
   ]
  },
  {
   "cell_type": "code",
   "execution_count": 3,
   "id": "21f5f6b0",
   "metadata": {
    "scrolled": false
   },
   "outputs": [],
   "source": [
    "# Dataset address is C:\\\\Users\\\\Rob\\\\Dataset\n",
    "datasetPath = (r'C:\\\\Users\\\\Rob\\\\Dataset')"
   ]
  },
  {
   "cell_type": "code",
   "execution_count": 4,
   "id": "42f902a3",
   "metadata": {
    "scrolled": false
   },
   "outputs": [
    {
     "name": "stdout",
     "output_type": "stream",
     "text": [
      "C:\\Users\\Rob\\Dataset\n"
     ]
    }
   ],
   "source": [
    "# Assigning dataset path to pathlib\n",
    "dat_dir = pathlib.Path(datasetPath).with_suffix('')\n",
    "print(dat_dir)"
   ]
  },
  {
   "cell_type": "code",
   "execution_count": 5,
   "id": "2d7ad9b7",
   "metadata": {
    "scrolled": false
   },
   "outputs": [
    {
     "name": "stdout",
     "output_type": "stream",
     "text": [
      "7482\n"
     ]
    }
   ],
   "source": [
    "# Number of images in dataset\n",
    "image_count = len(list(dat_dir.glob('*/*.jpg'))) # is this how datasetPath should be?\n",
    "print(image_count)"
   ]
  },
  {
   "cell_type": "code",
   "execution_count": 169,
   "id": "82eb9099",
   "metadata": {
    "scrolled": false
   },
   "outputs": [],
   "source": [
    "# Reading the information in the XML files and extracting names/bounding box info\n",
    "path = (dat_dir)\n",
    "filelist = []\n",
    "classNameList = list()\n",
    "boundBoxList = list()\n",
    "for root, dirs, files in os.walk(path):\n",
    "    for file in files:\n",
    "        if not file.endswith('.xml'):\n",
    "            continue\n",
    "        filelist.append(os.path.join(root, file))\n",
    "for file in filelist:\n",
    "    root = et.parse(file).getroot() # get the root of the xml\n",
    "# Get class names\n",
    "    for className in root.findall('.//object'):\n",
    "        class_name = className.find('name').text\n",
    "        data = np.array([class_name])\n",
    "    classNameList.append(data)\n",
    "# Get bounding box information\n",
    "    for bndBox in root.findall('.//object'):\n",
    "        bounding_box = bndBox.find('bndbox').text\n",
    "        xmin = int(bndBox.find('./bndbox/xmin').text)\n",
    "        ymin = int(bndBox.find('./bndbox/ymin').text)\n",
    "        xmax = int(bndBox.find('./bndbox/xmax').text)\n",
    "        ymax = int(bndBox.find('./bndbox/ymax').text)\n",
    "        data2 = np.array([xmin,ymin,xmax,ymax])\n",
    "    boundBoxList.append(data2)  "
   ]
  },
  {
   "cell_type": "code",
   "execution_count": 170,
   "id": "4dc86bba",
   "metadata": {
    "scrolled": false
   },
   "outputs": [
    {
     "name": "stdout",
     "output_type": "stream",
     "text": [
      "C:\\Users\\Rob\\Dataset\\Abramis brama\\00a7b0d4-8136-44f3-9e06-9972c1d42039-520mm.xml ['Abramis brama'] [ 20  20 486 193]\n",
      "C:\\Users\\Rob\\Dataset\\Abramis brama\\017f3e53-e0e2-4f94-a156-04e113705b7b-510mm.xml ['Abramis brama'] [ 20  20 515 187]\n",
      "C:\\Users\\Rob\\Dataset\\Abramis brama\\022e3ceb-a8e0-4e77-9b95-34f0bd337e23-570mm.xml ['Abramis brama'] [ 20  20 283 916]\n",
      "C:\\Users\\Rob\\Dataset\\Abramis brama\\02436d5d-0421-43c4-b9f3-41bcdf34af13-460mm.xml ['Abramis brama'] [ 20  20 697 244]\n",
      "C:\\Users\\Rob\\Dataset\\Abramis brama\\08282fac-ad90-4a9c-8021-0897a8cdf0c1-680mm.xml ['Abramis brama'] [ 19  20 789 400]\n"
     ]
    }
   ],
   "source": [
    "# print class names and bounding box info lists (list1 and list2)\n",
    "for i in range (5):\n",
    "    print(filelist[i],classNameList[i],boundBoxList[i])"
   ]
  },
  {
   "cell_type": "code",
   "execution_count": 66,
   "id": "6c99a75c",
   "metadata": {},
   "outputs": [
    {
     "name": "stdout",
     "output_type": "stream",
     "text": [
      "7482\n"
     ]
    }
   ],
   "source": [
    "print(len(classNameList)) "
   ]
  },
  {
   "cell_type": "code",
   "execution_count": 67,
   "id": "75d24d62",
   "metadata": {},
   "outputs": [
    {
     "name": "stdout",
     "output_type": "stream",
     "text": [
      "7482\n"
     ]
    }
   ],
   "source": [
    "print(len(boundBoxList)) # Same here!"
   ]
  },
  {
   "cell_type": "code",
   "execution_count": 167,
   "id": "1f559361",
   "metadata": {},
   "outputs": [
    {
     "name": "stdout",
     "output_type": "stream",
     "text": [
      "7482\n"
     ]
    }
   ],
   "source": [
    "print(len(filelist))"
   ]
  },
  {
   "cell_type": "markdown",
   "id": "3bc48891",
   "metadata": {},
   "source": [
    "## Create dataframe (using relative paths, class names and bound box details from XML)"
   ]
  },
  {
   "cell_type": "code",
   "execution_count": 133,
   "id": "f928b2b0",
   "metadata": {},
   "outputs": [
    {
     "data": {
      "text/plain": [
       "(7482, 3)"
      ]
     },
     "execution_count": 133,
     "metadata": {},
     "output_type": "execute_result"
    }
   ],
   "source": [
    "#list(base_dir.glob('*/*.jpg'))\n",
    "filepaths = list(dat_dir.glob(r'*/*.jpg'))#list(dat_dir.glob(r'**/*.jpg'))\n",
    "classnames = classNameList#list(map(lambda x: os.path.split(os.path.split(x)[0])[1], filepaths))# classNameList by using folder names\n",
    "boundboxes = boundBoxList\n",
    "\n",
    "filepaths = pd.Series(filepaths, name='Filepath').astype(str)#.astype(str)#str\n",
    "classnames = pd.Series(classnames, name='ClassName').astype(str)\n",
    "boundboxes = pd.Series(boundboxes, name='Boundbox').astype(str)\n",
    "\n",
    "dataframe = pd.concat([filepaths,classnames, boundboxes], axis=1)#boundboxes\n",
    "\n",
    "dataframe.shape"
   ]
  },
  {
   "cell_type": "code",
   "execution_count": 134,
   "id": "e2fcd5e7",
   "metadata": {},
   "outputs": [
    {
     "data": {
      "text/plain": [
       "(7482,)"
      ]
     },
     "execution_count": 134,
     "metadata": {},
     "output_type": "execute_result"
    }
   ],
   "source": [
    "classnames.shape"
   ]
  },
  {
   "cell_type": "code",
   "execution_count": 129,
   "id": "77246c0e",
   "metadata": {},
   "outputs": [
    {
     "data": {
      "text/plain": [
       "(7482,)"
      ]
     },
     "execution_count": 129,
     "metadata": {},
     "output_type": "execute_result"
    }
   ],
   "source": [
    "boundboxes.shape"
   ]
  },
  {
   "cell_type": "code",
   "execution_count": 135,
   "id": "20acc22f",
   "metadata": {},
   "outputs": [
    {
     "data": {
      "text/html": [
       "<div>\n",
       "<style scoped>\n",
       "    .dataframe tbody tr th:only-of-type {\n",
       "        vertical-align: middle;\n",
       "    }\n",
       "\n",
       "    .dataframe tbody tr th {\n",
       "        vertical-align: top;\n",
       "    }\n",
       "\n",
       "    .dataframe thead th {\n",
       "        text-align: right;\n",
       "    }\n",
       "</style>\n",
       "<table border=\"1\" class=\"dataframe\">\n",
       "  <thead>\n",
       "    <tr style=\"text-align: right;\">\n",
       "      <th></th>\n",
       "      <th>Filepath</th>\n",
       "      <th>ClassName</th>\n",
       "      <th>Boundbox</th>\n",
       "    </tr>\n",
       "  </thead>\n",
       "  <tbody>\n",
       "    <tr>\n",
       "      <th>0</th>\n",
       "      <td>C:\\Users\\Rob\\Dataset\\Abramis brama\\00a7b0d4-81...</td>\n",
       "      <td>['Abramis brama']</td>\n",
       "      <td>[ 20  20 486 193]</td>\n",
       "    </tr>\n",
       "    <tr>\n",
       "      <th>1</th>\n",
       "      <td>C:\\Users\\Rob\\Dataset\\Abramis brama\\017f3e53-e0...</td>\n",
       "      <td>['Abramis brama']</td>\n",
       "      <td>[ 20  20 515 187]</td>\n",
       "    </tr>\n",
       "    <tr>\n",
       "      <th>2</th>\n",
       "      <td>C:\\Users\\Rob\\Dataset\\Abramis brama\\022e3ceb-a8...</td>\n",
       "      <td>['Abramis brama']</td>\n",
       "      <td>[ 20  20 283 916]</td>\n",
       "    </tr>\n",
       "    <tr>\n",
       "      <th>3</th>\n",
       "      <td>C:\\Users\\Rob\\Dataset\\Abramis brama\\02436d5d-04...</td>\n",
       "      <td>['Abramis brama']</td>\n",
       "      <td>[ 20  20 697 244]</td>\n",
       "    </tr>\n",
       "    <tr>\n",
       "      <th>4</th>\n",
       "      <td>C:\\Users\\Rob\\Dataset\\Abramis brama\\08282fac-ad...</td>\n",
       "      <td>['Abramis brama']</td>\n",
       "      <td>[ 19  20 789 400]</td>\n",
       "    </tr>\n",
       "    <tr>\n",
       "      <th>...</th>\n",
       "      <td>...</td>\n",
       "      <td>...</td>\n",
       "      <td>...</td>\n",
       "    </tr>\n",
       "    <tr>\n",
       "      <th>7477</th>\n",
       "      <td>C:\\Users\\Rob\\Dataset\\Vimba vimba\\e8eb5ce9-6bfd...</td>\n",
       "      <td>['Vimba vimba']</td>\n",
       "      <td>[ 16  20 753 331]</td>\n",
       "    </tr>\n",
       "    <tr>\n",
       "      <th>7478</th>\n",
       "      <td>C:\\Users\\Rob\\Dataset\\Vimba vimba\\eb183598-5e68...</td>\n",
       "      <td>['Vimba vimba']</td>\n",
       "      <td>[ 20  20 308 976]</td>\n",
       "    </tr>\n",
       "    <tr>\n",
       "      <th>7479</th>\n",
       "      <td>C:\\Users\\Rob\\Dataset\\Vimba vimba\\f38d345c-e3b3...</td>\n",
       "      <td>['Vimba vimba']</td>\n",
       "      <td>[ 20  20 648 412]</td>\n",
       "    </tr>\n",
       "    <tr>\n",
       "      <th>7480</th>\n",
       "      <td>C:\\Users\\Rob\\Dataset\\Vimba vimba\\f7226613-6b62...</td>\n",
       "      <td>['Vimba vimba']</td>\n",
       "      <td>[ 20  20 650 192]</td>\n",
       "    </tr>\n",
       "    <tr>\n",
       "      <th>7481</th>\n",
       "      <td>C:\\Users\\Rob\\Dataset\\Vimba vimba\\f992ee90-6dcb...</td>\n",
       "      <td>['Vimba vimba']</td>\n",
       "      <td>[ 20  20 674 241]</td>\n",
       "    </tr>\n",
       "  </tbody>\n",
       "</table>\n",
       "<p>7482 rows × 3 columns</p>\n",
       "</div>"
      ],
      "text/plain": [
       "                                               Filepath          ClassName  \\\n",
       "0     C:\\Users\\Rob\\Dataset\\Abramis brama\\00a7b0d4-81...  ['Abramis brama']   \n",
       "1     C:\\Users\\Rob\\Dataset\\Abramis brama\\017f3e53-e0...  ['Abramis brama']   \n",
       "2     C:\\Users\\Rob\\Dataset\\Abramis brama\\022e3ceb-a8...  ['Abramis brama']   \n",
       "3     C:\\Users\\Rob\\Dataset\\Abramis brama\\02436d5d-04...  ['Abramis brama']   \n",
       "4     C:\\Users\\Rob\\Dataset\\Abramis brama\\08282fac-ad...  ['Abramis brama']   \n",
       "...                                                 ...                ...   \n",
       "7477  C:\\Users\\Rob\\Dataset\\Vimba vimba\\e8eb5ce9-6bfd...    ['Vimba vimba']   \n",
       "7478  C:\\Users\\Rob\\Dataset\\Vimba vimba\\eb183598-5e68...    ['Vimba vimba']   \n",
       "7479  C:\\Users\\Rob\\Dataset\\Vimba vimba\\f38d345c-e3b3...    ['Vimba vimba']   \n",
       "7480  C:\\Users\\Rob\\Dataset\\Vimba vimba\\f7226613-6b62...    ['Vimba vimba']   \n",
       "7481  C:\\Users\\Rob\\Dataset\\Vimba vimba\\f992ee90-6dcb...    ['Vimba vimba']   \n",
       "\n",
       "               Boundbox  \n",
       "0     [ 20  20 486 193]  \n",
       "1     [ 20  20 515 187]  \n",
       "2     [ 20  20 283 916]  \n",
       "3     [ 20  20 697 244]  \n",
       "4     [ 19  20 789 400]  \n",
       "...                 ...  \n",
       "7477  [ 16  20 753 331]  \n",
       "7478  [ 20  20 308 976]  \n",
       "7479  [ 20  20 648 412]  \n",
       "7480  [ 20  20 650 192]  \n",
       "7481  [ 20  20 674 241]  \n",
       "\n",
       "[7482 rows x 3 columns]"
      ]
     },
     "execution_count": 135,
     "metadata": {},
     "output_type": "execute_result"
    }
   ],
   "source": [
    "dataframe"
   ]
  },
  {
   "cell_type": "code",
   "execution_count": 136,
   "id": "e4cd8b58",
   "metadata": {},
   "outputs": [
    {
     "data": {
      "text/plain": [
       "['Cyprinus carpio']                589\n",
       "['Aspius aspius']                  343\n",
       "['Barbus barbus']                  336\n",
       "['Leuciscus idus']                 334\n",
       "['Rutilus rutilus']                318\n",
       "['Tinca tinca']                    316\n",
       "['Scardinius erythrophthalmus']    311\n",
       "['Esox lucius']                    311\n",
       "['Sander lucioperca']              302\n",
       "['Acipenseridae']                  293\n",
       "['Ctenopharyngodon idella']        293\n",
       "['Leuciscus cephalus']             282\n",
       "['Silurus glanis']                 272\n",
       "['Abramis brama']                  271\n",
       "['Salmo trutta subsp. fario']      270\n",
       "['Anguilla anguilla']              266\n",
       "['Carassius gibelio']              259\n",
       "['Lepomis gibbosus']               248\n",
       "['Perca fluviatilis']              248\n",
       "['Neogobius melanostomus']         244\n",
       "['Blicca bjoerkna']                244\n",
       "['Carassius carassius']            242\n",
       "['Gymnocephalus cernuus']          236\n",
       "['Gobio gobio']                    228\n",
       "['Neogobius fluviatilis']          102\n",
       "['Neogobius kessleri']              93\n",
       "['Vimba vimba']                     71\n",
       "['Leuciscus leuciscus']             66\n",
       "['Gasterosteus aculeatus']          58\n",
       "['Rhodeus amarus']                  36\n",
       "Name: ClassName, dtype: int64"
      ]
     },
     "execution_count": 136,
     "metadata": {},
     "output_type": "execute_result"
    }
   ],
   "source": [
    "dataframe['ClassName'].value_counts()"
   ]
  },
  {
   "cell_type": "code",
   "execution_count": null,
   "id": "5c6b3574",
   "metadata": {},
   "outputs": [],
   "source": [
    "# Panda dataframe loc and iloc"
   ]
  },
  {
   "cell_type": "code",
   "execution_count": 138,
   "id": "936c4910",
   "metadata": {},
   "outputs": [
    {
     "data": {
      "text/plain": [
       "0       ['Abramis brama']\n",
       "1       ['Abramis brama']\n",
       "2       ['Abramis brama']\n",
       "3       ['Abramis brama']\n",
       "4       ['Abramis brama']\n",
       "              ...        \n",
       "7477      ['Vimba vimba']\n",
       "7478      ['Vimba vimba']\n",
       "7479      ['Vimba vimba']\n",
       "7480      ['Vimba vimba']\n",
       "7481      ['Vimba vimba']\n",
       "Name: ClassName, Length: 7482, dtype: object"
      ]
     },
     "execution_count": 138,
     "metadata": {},
     "output_type": "execute_result"
    }
   ],
   "source": [
    "dataframe.loc[:,\"ClassName\"]"
   ]
  },
  {
   "cell_type": "markdown",
   "id": "264ebf65",
   "metadata": {},
   "source": [
    "### Checking for and replacing NaN values in dataframe1"
   ]
  },
  {
   "cell_type": "code",
   "execution_count": null,
   "id": "5f86e3ba",
   "metadata": {},
   "outputs": [],
   "source": [
    "# Are there any NaN in dataframe1?\n",
    "#check_nan_in_dataframe = dataframe.isnull().values.any()\n",
    "#print (check_nan_in_dataframe)\n",
    "\n",
    "# Is there any Filepath values that are NaN?\n",
    "#check_for_nan = dataframe['Filepath'].isnull().values.any()\n",
    "#print (check_for_nan)\n",
    "\n",
    "# How many count of NaN in Filepath\n",
    "#count_nan = dataframe['Filepath'].isnull().sum()\n",
    "#print ('Count of NaN: ' + str(count_nan))\n",
    "\n",
    "# Replace all NaN values in Filepath column\n",
    "#dataframe['Filepath'] = dataframe1['Filepath'].fillna(0)\n",
    "\n",
    "# Are there any NaN values in dataframe1 after replacing them?\n",
    "#check_nan_in_dataframe = dataframe1.isnull().values.any()\n",
    "#print (check_nan_in_dataframe1)"
   ]
  },
  {
   "cell_type": "code",
   "execution_count": 139,
   "id": "aae95462",
   "metadata": {},
   "outputs": [
    {
     "data": {
      "text/plain": [
       "Filepath     object\n",
       "ClassName    object\n",
       "Boundbox     object\n",
       "dtype: object"
      ]
     },
     "execution_count": 139,
     "metadata": {},
     "output_type": "execute_result"
    }
   ],
   "source": [
    "# https://www.projectpro.io/recipes/load-pandas-dataframe-tensorflow\n",
    "\n",
    "\n",
    "dataframe.dtypes"
   ]
  },
  {
   "cell_type": "code",
   "execution_count": 142,
   "id": "73d7f1ec",
   "metadata": {},
   "outputs": [
    {
     "data": {
      "text/html": [
       "<div>\n",
       "<style scoped>\n",
       "    .dataframe tbody tr th:only-of-type {\n",
       "        vertical-align: middle;\n",
       "    }\n",
       "\n",
       "    .dataframe tbody tr th {\n",
       "        vertical-align: top;\n",
       "    }\n",
       "\n",
       "    .dataframe thead th {\n",
       "        text-align: right;\n",
       "    }\n",
       "</style>\n",
       "<table border=\"1\" class=\"dataframe\">\n",
       "  <thead>\n",
       "    <tr style=\"text-align: right;\">\n",
       "      <th></th>\n",
       "      <th>Filepath</th>\n",
       "      <th>ClassName</th>\n",
       "      <th>Boundbox</th>\n",
       "    </tr>\n",
       "  </thead>\n",
       "  <tbody>\n",
       "    <tr>\n",
       "      <th>0</th>\n",
       "      <td>0</td>\n",
       "      <td>0</td>\n",
       "      <td>3657</td>\n",
       "    </tr>\n",
       "    <tr>\n",
       "      <th>1</th>\n",
       "      <td>1</td>\n",
       "      <td>0</td>\n",
       "      <td>3988</td>\n",
       "    </tr>\n",
       "    <tr>\n",
       "      <th>2</th>\n",
       "      <td>2</td>\n",
       "      <td>0</td>\n",
       "      <td>1835</td>\n",
       "    </tr>\n",
       "    <tr>\n",
       "      <th>3</th>\n",
       "      <td>3</td>\n",
       "      <td>0</td>\n",
       "      <td>6391</td>\n",
       "    </tr>\n",
       "    <tr>\n",
       "      <th>4</th>\n",
       "      <td>4</td>\n",
       "      <td>0</td>\n",
       "      <td>884</td>\n",
       "    </tr>\n",
       "    <tr>\n",
       "      <th>...</th>\n",
       "      <td>...</td>\n",
       "      <td>...</td>\n",
       "      <td>...</td>\n",
       "    </tr>\n",
       "    <tr>\n",
       "      <th>7477</th>\n",
       "      <td>7477</td>\n",
       "      <td>29</td>\n",
       "      <td>783</td>\n",
       "    </tr>\n",
       "    <tr>\n",
       "      <th>7478</th>\n",
       "      <td>7478</td>\n",
       "      <td>29</td>\n",
       "      <td>2007</td>\n",
       "    </tr>\n",
       "    <tr>\n",
       "      <th>7479</th>\n",
       "      <td>7479</td>\n",
       "      <td>29</td>\n",
       "      <td>5755</td>\n",
       "    </tr>\n",
       "    <tr>\n",
       "      <th>7480</th>\n",
       "      <td>7480</td>\n",
       "      <td>29</td>\n",
       "      <td>5760</td>\n",
       "    </tr>\n",
       "    <tr>\n",
       "      <th>7481</th>\n",
       "      <td>7481</td>\n",
       "      <td>29</td>\n",
       "      <td>6078</td>\n",
       "    </tr>\n",
       "  </tbody>\n",
       "</table>\n",
       "<p>7482 rows × 3 columns</p>\n",
       "</div>"
      ],
      "text/plain": [
       "      Filepath  ClassName  Boundbox\n",
       "0            0          0      3657\n",
       "1            1          0      3988\n",
       "2            2          0      1835\n",
       "3            3          0      6391\n",
       "4            4          0       884\n",
       "...        ...        ...       ...\n",
       "7477      7477         29       783\n",
       "7478      7478         29      2007\n",
       "7479      7479         29      5755\n",
       "7480      7480         29      5760\n",
       "7481      7481         29      6078\n",
       "\n",
       "[7482 rows x 3 columns]"
      ]
     },
     "execution_count": 142,
     "metadata": {},
     "output_type": "execute_result"
    }
   ],
   "source": [
    "# Converting object types into numerical types\n",
    "\n",
    "dataframe['Filepath']=pd.Categorical(dataframe['Filepath'])\n",
    "dataframe['Filepath']=dataframe.Filepath.cat.codes\n",
    "\n",
    "\n",
    "dataframe['ClassName']=pd.Categorical(dataframe['ClassName'])\n",
    "dataframe['ClassName']=dataframe.ClassName.cat.codes\n",
    "\n",
    "dataframe['Boundbox']=pd.Categorical(dataframe['Boundbox'])\n",
    "dataframe['Boundbox']=dataframe.Boundbox.cat.codes\n",
    "\n",
    "dataframe"
   ]
  },
  {
   "cell_type": "code",
   "execution_count": null,
   "id": "8a6c1abd",
   "metadata": {},
   "outputs": [],
   "source": []
  },
  {
   "cell_type": "markdown",
   "id": "af7cb736",
   "metadata": {},
   "source": [
    "## Use sklearn StratifiedShuffleSplit to split into test and train subsets"
   ]
  },
  {
   "cell_type": "markdown",
   "id": "9ebaf214",
   "metadata": {},
   "source": [
    "### From https://scikit-learn.org/stable/modules/generated/sklearn.model_selection.StratifiedShuffleSplit.html"
   ]
  },
  {
   "cell_type": "code",
   "execution_count": 163,
   "id": "a8b2b277",
   "metadata": {},
   "outputs": [],
   "source": [
    "# https://stackoverflow.com/questions/58461609/how-to-convert-pandas-dataframe-to-tensorflow-dataset\n",
    "# Converting datframe into tensorflow dataset\n",
    "#tensorDataset = tf.data.Dataset.from_tensor_slices(dataframe)#(dict(dataframe))#.to_dict() now instead of dict()\n",
    "\n",
    "# https://stackoverflow.com/questions/72367772/create-tensorflow-dataset-with-dataframe-of-images-and-labels\n",
    "tensordataset = tf.data.Dataset.from_tensor_slices((list(dataframe['Filepath'].values), dataframe['ClassName'].values, dataframe['Boundbox'])).batch(3)"
   ]
  },
  {
   "cell_type": "code",
   "execution_count": 164,
   "id": "9d590def",
   "metadata": {},
   "outputs": [
    {
     "data": {
      "text/plain": [
       "<TensorSliceDataset shapes: (3,), types: tf.int16>"
      ]
     },
     "execution_count": 164,
     "metadata": {},
     "output_type": "execute_result"
    }
   ],
   "source": [
    "# How to convert dataframe into tensorflow dataset?\n",
    "tensorDataset"
   ]
  },
  {
   "cell_type": "code",
   "execution_count": 165,
   "id": "33890fc1",
   "metadata": {},
   "outputs": [
    {
     "ename": "AttributeError",
     "evalue": "'TensorSliceDataset' object has no attribute 'shape'",
     "output_type": "error",
     "traceback": [
      "\u001b[1;31m---------------------------------------------------------------------------\u001b[0m",
      "\u001b[1;31mAttributeError\u001b[0m                            Traceback (most recent call last)",
      "Cell \u001b[1;32mIn[165], line 1\u001b[0m\n\u001b[1;32m----> 1\u001b[0m \u001b[43mtensorDataset\u001b[49m\u001b[38;5;241;43m.\u001b[39;49m\u001b[43mshape\u001b[49m\n",
      "\u001b[1;31mAttributeError\u001b[0m: 'TensorSliceDataset' object has no attribute 'shape'"
     ]
    }
   ],
   "source": [
    "tensorDataset.shape"
   ]
  },
  {
   "cell_type": "code",
   "execution_count": 158,
   "id": "6faed338",
   "metadata": {},
   "outputs": [
    {
     "data": {
      "text/plain": [
       "(array([[ 426,    1, 6773],\n",
       "        [1593,    5, 5037],\n",
       "        [ 805,    2, 1594],\n",
       "        ...,\n",
       "        [5390,   21, 6231],\n",
       "        [ 860,    3, 4538],\n",
       "        [7270,   28, 5548]], dtype=int16),\n",
       " array([ 1,  5,  2, ..., 21,  3, 28], dtype=int8))"
      ]
     },
     "execution_count": 158,
     "metadata": {},
     "output_type": "execute_result"
    }
   ],
   "source": [
    "# https://datascience.stackexchange.com/questions/45174/how-to-use-sklearn-train-test-split-to-stratify-data-for-multi-label-classificat\n",
    "# Using sklearn train_test_split \n",
    "\n",
    "testArray=[list(dat_dir.glob(r'*/*.jpg'))]\n",
    "X = np.asarray(dataframe)#classNameList#dataframe#features/columns(has to be 2 dimensional, for array .reshape(-1,1))\n",
    "y = np.asarray(dataframe['ClassName'])#classNameList#dataframe#labels (can be 1 dimensional)\n",
    "\n",
    "X_train, X_test, y_train, y_test = train_test_split(X,\n",
    "                                                    y,\n",
    "                                                    test_size=0.2,\n",
    "                                                    random_state=42)\n",
    "\n",
    "#print(X_train.shape, X_test.shape, y_train.shape, y_test.shape)\n",
    "X_train,y_train"
   ]
  },
  {
   "cell_type": "code",
   "execution_count": null,
   "id": "95122b56",
   "metadata": {},
   "outputs": [],
   "source": [
    "# https://discuss.pytorch.org/t/loss-backward-cuda-runtime\n",
    "#-error-2-out-of-memory-at-pytorch-torch-lib-thc-generic-thcstorage-cu-66/10214\n",
    "# X = resize  # numpy array of images [training data]\n",
    "# y = np.array(indexed_labels)  # indexed labels for images [training labels]\n",
    "\n",
    "#X = dataframe# n_samples, n_features\n",
    "#y = dataframe#n_samples or n_samples, n_labels\n",
    "#sss = StratifiedShuffleSplit(n_splits=5, test_size=0.5, random_state=20)\n",
    "#sss.get_n_splits(X, y)\n",
    "\n",
    "#X = np.asarray(list1)# n_samples, n_features\n",
    "#y = np.asarray(list1)#n_samples or n_samples, n_labels\n",
    "#sss = StratifiedShuffleSplit(n_splits=5, test_size=0.5, random_state=20)\n",
    "#sss.get_n_splits(X, y)\n",
    "\n",
    "\n",
    "\n",
    "#for i, (train_index, test_index) in enumerate (sss.split(X, y)):# in enumerate(sss.split(X, y))\n",
    "    #print(f\"Fold {i}:\")\n",
    "    #print(f\"  Train: index={train_index}\")\n",
    "    #print(f\"  Test:  index={test_index}\")"
   ]
  },
  {
   "cell_type": "code",
   "execution_count": 157,
   "id": "3e0987bb",
   "metadata": {},
   "outputs": [
    {
     "ename": "AttributeError",
     "evalue": "'DataFrame' object has no attribute 'as_numpy_iterator'",
     "output_type": "error",
     "traceback": [
      "\u001b[1;31m---------------------------------------------------------------------------\u001b[0m",
      "\u001b[1;31mAttributeError\u001b[0m                            Traceback (most recent call last)",
      "Cell \u001b[1;32mIn[157], line 1\u001b[0m\n\u001b[1;32m----> 1\u001b[0m sample_imgs, sample_labels \u001b[38;5;241m=\u001b[39m \u001b[43mdataframe\u001b[49m\u001b[38;5;241;43m.\u001b[39;49m\u001b[43mas_numpy_iterator\u001b[49m()\u001b[38;5;241m.\u001b[39mnext()\u001b[38;5;66;03m#.as_numpy_iterator()\u001b[39;00m\n\u001b[0;32m      2\u001b[0m sample_imgs\u001b[38;5;241m.\u001b[39mshape, sample_labels\u001b[38;5;241m.\u001b[39mshape\n",
      "File \u001b[1;32m~\\anaconda3\\envs\\TM470\\lib\\site-packages\\pandas\\core\\generic.py:5902\u001b[0m, in \u001b[0;36mNDFrame.__getattr__\u001b[1;34m(self, name)\u001b[0m\n\u001b[0;32m   5895\u001b[0m \u001b[38;5;28;01mif\u001b[39;00m (\n\u001b[0;32m   5896\u001b[0m     name \u001b[38;5;129;01mnot\u001b[39;00m \u001b[38;5;129;01min\u001b[39;00m \u001b[38;5;28mself\u001b[39m\u001b[38;5;241m.\u001b[39m_internal_names_set\n\u001b[0;32m   5897\u001b[0m     \u001b[38;5;129;01mand\u001b[39;00m name \u001b[38;5;129;01mnot\u001b[39;00m \u001b[38;5;129;01min\u001b[39;00m \u001b[38;5;28mself\u001b[39m\u001b[38;5;241m.\u001b[39m_metadata\n\u001b[0;32m   5898\u001b[0m     \u001b[38;5;129;01mand\u001b[39;00m name \u001b[38;5;129;01mnot\u001b[39;00m \u001b[38;5;129;01min\u001b[39;00m \u001b[38;5;28mself\u001b[39m\u001b[38;5;241m.\u001b[39m_accessors\n\u001b[0;32m   5899\u001b[0m     \u001b[38;5;129;01mand\u001b[39;00m \u001b[38;5;28mself\u001b[39m\u001b[38;5;241m.\u001b[39m_info_axis\u001b[38;5;241m.\u001b[39m_can_hold_identifiers_and_holds_name(name)\n\u001b[0;32m   5900\u001b[0m ):\n\u001b[0;32m   5901\u001b[0m     \u001b[38;5;28;01mreturn\u001b[39;00m \u001b[38;5;28mself\u001b[39m[name]\n\u001b[1;32m-> 5902\u001b[0m \u001b[38;5;28;01mreturn\u001b[39;00m \u001b[38;5;28;43mobject\u001b[39;49m\u001b[38;5;241;43m.\u001b[39;49m\u001b[38;5;21;43m__getattribute__\u001b[39;49m\u001b[43m(\u001b[49m\u001b[38;5;28;43mself\u001b[39;49m\u001b[43m,\u001b[49m\u001b[43m \u001b[49m\u001b[43mname\u001b[49m\u001b[43m)\u001b[49m\n",
      "\u001b[1;31mAttributeError\u001b[0m: 'DataFrame' object has no attribute 'as_numpy_iterator'"
     ]
    }
   ],
   "source": [
    "sample_imgs, sample_labels = X_train.as_numpy_iterator().next()#.as_numpy_iterator()\n",
    "sample_imgs.shape, sample_labels.shape"
   ]
  },
  {
   "cell_type": "code",
   "execution_count": null,
   "id": "f77c667f",
   "metadata": {},
   "outputs": [],
   "source": [
    "# testing using sample label - to try debug final evaluation\n",
    "plt.figure(figsize=(10,10))\n",
    "for i in range(9):\n",
    "    plt.subplot(3,3,i+1)\n",
    "    plt.imshow(sample_imgs[i].astype(\"uint8\")) #images[i].numpy().astype(\"uint8\"))\n",
    "    plt.xticks([])\n",
    "    plt.yticks([])\n",
    "    plt.grid(False)\n",
    "    plt.title(class_names[sample_labels[i]])\n",
    "plt.show()"
   ]
  },
  {
   "cell_type": "markdown",
   "id": "2a0b8ead",
   "metadata": {},
   "source": [
    "### test to see if i can connect dataset to shufflesplit"
   ]
  },
  {
   "cell_type": "code",
   "execution_count": 82,
   "id": "24114386",
   "metadata": {},
   "outputs": [],
   "source": [
    "# Image size\n",
    "batch_size=16\n",
    "img_height=180\n",
    "img_width=180\n",
    "image_size=(img_height,img_width,3)\n",
    "num_classes = 30"
   ]
  },
  {
   "cell_type": "code",
   "execution_count": 83,
   "id": "6f1360d7",
   "metadata": {},
   "outputs": [
    {
     "name": "stdout",
     "output_type": "stream",
     "text": [
      "Found 7482 files belonging to 30 classes.\n"
     ]
    }
   ],
   "source": [
    "# Creating test dataset\n",
    "test_dataset = tf.keras.utils.image_dataset_from_directory(\n",
    "  dat_dir,\n",
    "  #validation_split=0.1,\n",
    "  #subset=\"testing\",\n",
    "  seed=125,\n",
    "  image_size=(img_height,img_width),\n",
    "  batch_size=batch_size)"
   ]
  },
  {
   "cell_type": "code",
   "execution_count": 87,
   "id": "9b410048",
   "metadata": {},
   "outputs": [
    {
     "data": {
      "text/plain": [
       "<BatchDataset shapes: ((None, 180, 180, 3), (None,)), types: (tf.float32, tf.int32)>"
      ]
     },
     "execution_count": 87,
     "metadata": {},
     "output_type": "execute_result"
    }
   ],
   "source": [
    "test_dataset"
   ]
  },
  {
   "cell_type": "code",
   "execution_count": null,
   "id": "543ce822",
   "metadata": {
    "scrolled": false
   },
   "outputs": [],
   "source": [
    "# Useful information on Kaggle:\n",
    "# https://www.kaggle.com/code/reighns/augmentations-data-cleaning-and-bounding-boxes (3 May 23)\n",
    "# Hiding id behing jpg\n",
    "#dataframe1[\"Filepath\"] = dataframe1[\"Filepath\"].apply(lambda x: str(x) + \".jpg\")\n",
    "#dataframe1"
   ]
  },
  {
   "cell_type": "markdown",
   "id": "70948435",
   "metadata": {},
   "source": [
    "# Where to find the test data alternative way\n"
   ]
  },
  {
   "cell_type": "code",
   "execution_count": null,
   "id": "29c1f145",
   "metadata": {
    "scrolled": false
   },
   "outputs": [],
   "source": [
    "# my code\n",
    "# Dataset address is C:\\Users\\Rob\\Dataset\n",
    "# datasetPath = (r'C:\\Users\\Rob\\Dataset')\n",
    "# dat_dir = pathlib.Path(datasetPath).with_suffix('')\n",
    "\n",
    "# A way to split the data\n",
    "# train_dir = os.path.join(dat_dir, 'train')\n",
    "# validation_dir = os.path.join(dat_dir, 'validation')\n",
    "# test_dir = os.path.join(dat_dir, 'test')"
   ]
  },
  {
   "cell_type": "code",
   "execution_count": null,
   "id": "34c1f03f",
   "metadata": {
    "scrolled": false
   },
   "outputs": [],
   "source": [
    "# Assigning dataset path to pathlib\n",
    "print(dat_dir)"
   ]
  },
  {
   "cell_type": "code",
   "execution_count": 62,
   "id": "b583ec5d",
   "metadata": {
    "scrolled": false
   },
   "outputs": [
    {
     "name": "stdout",
     "output_type": "stream",
     "text": [
      "7482\n",
      "7482\n"
     ]
    }
   ],
   "source": [
    "# Number of images in dataset and dataframe1\n",
    "image_count = len(list(dat_dir.glob('*/*.jpg')))\n",
    "image_count_df = len(dataframe)\n",
    "print(image_count)\n",
    "print(image_count_df)"
   ]
  },
  {
   "cell_type": "markdown",
   "id": "40170510",
   "metadata": {},
   "source": [
    "# Creating the datasets (how to use dataframe1 created above?)"
   ]
  },
  {
   "cell_type": "code",
   "execution_count": null,
   "id": "0881c6d9",
   "metadata": {
    "scrolled": false
   },
   "outputs": [],
   "source": [
    "# Image size\n",
    "batch_size=16\n",
    "img_height=180\n",
    "img_width=180\n",
    "image_size=(img_height,img_width,3)\n",
    "num_classes = 30"
   ]
  },
  {
   "cell_type": "code",
   "execution_count": null,
   "id": "592c9cfb",
   "metadata": {
    "scrolled": false
   },
   "outputs": [],
   "source": [
    "# Create the training dataset\n",
    "train_dataset = tf.keras.utils.image_dataset_from_directory(\n",
    "  dat_dir,\n",
    "  validation_split=0.2,\n",
    "  subset=\"training\",\n",
    "  seed=123,#none\n",
    "  image_size=(img_height,img_width),\n",
    "  batch_size=batch_size)"
   ]
  },
  {
   "cell_type": "code",
   "execution_count": null,
   "id": "01a6b2e4",
   "metadata": {
    "scrolled": false
   },
   "outputs": [],
   "source": [
    "# Create the validation dataset\n",
    "val_dataset = tf.keras.utils.image_dataset_from_directory(\n",
    "  dat_dir,\n",
    "  validation_split=0.2,\n",
    "  subset=\"validation\",\n",
    "  seed=124,\n",
    "  image_size=(img_height,img_width),\n",
    "  batch_size=batch_size)"
   ]
  },
  {
   "cell_type": "code",
   "execution_count": null,
   "id": "32c254c7",
   "metadata": {
    "scrolled": false
   },
   "outputs": [],
   "source": [
    "# Creating test dataset\n",
    "test_dataset = tf.keras.utils.image_dataset_from_directory(\n",
    "  dat_dir,\n",
    "  #validation_split=0.1,\n",
    "  #subset=\"testing\",\n",
    "  seed=125,\n",
    "  image_size=(img_height,img_width),\n",
    "  batch_size=batch_size)"
   ]
  },
  {
   "cell_type": "code",
   "execution_count": null,
   "id": "3ed93fcd",
   "metadata": {
    "scrolled": false
   },
   "outputs": [],
   "source": [
    "# Assign the class names\n",
    "class_names = test_dataset.class_names\n",
    "#class_names=list1\n",
    "print(class_names) "
   ]
  },
  {
   "cell_type": "code",
   "execution_count": 85,
   "id": "dc46603a",
   "metadata": {},
   "outputs": [
    {
     "data": {
      "text/plain": [
       "((16, 180, 180, 3), (16,))"
      ]
     },
     "execution_count": 85,
     "metadata": {},
     "output_type": "execute_result"
    }
   ],
   "source": [
    "# Next two cells for testing\n",
    "sample_imgs, sample_labels = test_dataset.as_numpy_iterator().next()\n",
    "sample_imgs.shape, sample_labels.shape"
   ]
  },
  {
   "cell_type": "code",
   "execution_count": 86,
   "id": "b410a8f8",
   "metadata": {},
   "outputs": [
    {
     "ename": "NameError",
     "evalue": "name 'class_names' is not defined",
     "output_type": "error",
     "traceback": [
      "\u001b[1;31m---------------------------------------------------------------------------\u001b[0m",
      "\u001b[1;31mNameError\u001b[0m                                 Traceback (most recent call last)",
      "Cell \u001b[1;32mIn[86], line 9\u001b[0m\n\u001b[0;32m      7\u001b[0m     plt\u001b[38;5;241m.\u001b[39myticks([])\n\u001b[0;32m      8\u001b[0m     plt\u001b[38;5;241m.\u001b[39mgrid(\u001b[38;5;28;01mFalse\u001b[39;00m)\n\u001b[1;32m----> 9\u001b[0m     plt\u001b[38;5;241m.\u001b[39mtitle(\u001b[43mclass_names\u001b[49m[sample_labels[i]])\n\u001b[0;32m     10\u001b[0m plt\u001b[38;5;241m.\u001b[39mshow()\n",
      "\u001b[1;31mNameError\u001b[0m: name 'class_names' is not defined"
     ]
    },
    {
     "data": {
      "image/png": "[encoded data removed]",
      "text/plain": [
       "<Figure size 1000x1000 with 1 Axes>"
      ]
     },
     "metadata": {},
     "output_type": "display_data"
    }
   ],
   "source": [
    "# testing using sample label - to try debug final evaluation\n",
    "plt.figure(figsize=(10,10))\n",
    "for i in range(9):\n",
    "    plt.subplot(3,3,i+1)\n",
    "    plt.imshow(sample_imgs[i].astype(\"uint8\")) #images[i].numpy().astype(\"uint8\"))\n",
    "    plt.xticks([])\n",
    "    plt.yticks([])\n",
    "    plt.grid(False)\n",
    "    plt.title(class_names[sample_labels[i]])\n",
    "plt.show()"
   ]
  },
  {
   "cell_type": "markdown",
   "id": "22aed06a",
   "metadata": {},
   "source": [
    "## My model (based on TM358 EMA model)"
   ]
  },
  {
   "cell_type": "markdown",
   "id": "e5dfdf19",
   "metadata": {},
   "source": [
    "### Data augmentation"
   ]
  },
  {
   "cell_type": "code",
   "execution_count": null,
   "id": "0165686b",
   "metadata": {
    "scrolled": false
   },
   "outputs": [],
   "source": [
    "# Creating the normalisation layer\n",
    "norm_layer = layers.Normalization(input_shape=(image_size))\n",
    "norm_layer.adapt(train_dataset.map(lambda x, y: x))"
   ]
  },
  {
   "cell_type": "code",
   "execution_count": null,
   "id": "c0bf23c6",
   "metadata": {
    "scrolled": false
   },
   "outputs": [],
   "source": [
    "# Creating an augmented subset\n",
    "data_augmentation = tf.keras.Sequential([\n",
    "layers.RandomRotation(0.2),\n",
    "#layers.RandomZoom(height_factor=0.1),\n",
    "layers.RandomFlip(mode='horizontal')\n",
    "])\n",
    "\n",
    "aug_train_dataset = train_dataset.map(lambda x, y: (data_augmentation(x, training=True), y),\n",
    "num_parallel_calls=tf.data.AUTOTUNE)\n",
    "aug_train_dataset = aug_train_dataset.prefetch(buffer_size=tf.data.AUTOTUNE)"
   ]
  },
  {
   "cell_type": "markdown",
   "id": "f4bdb410",
   "metadata": {},
   "source": [
    "### Model creation"
   ]
  },
  {
   "cell_type": "code",
   "execution_count": null,
   "id": "6e99d15d",
   "metadata": {
    "scrolled": false
   },
   "outputs": [],
   "source": [
    "# Define function to create model and compile\n",
    "def build_model():\n",
    "    model = Sequential([\n",
    "        #norm_layer, # to normalise data - making training freeze\n",
    "        Conv2D(filters=16, kernel_size=(3,3), padding='same',\n",
    "        input_shape=image_size, activation='relu'),\n",
    "        Conv2D(filters=16, kernel_size=(3,3), padding='same', activation='relu'),\n",
    "        Conv2D(filters=16, kernel_size=(3,3), padding='same', activation='relu'),\n",
    "        MaxPooling2D(pool_size=(2, 2)),\n",
    "        Conv2D(filters=16, kernel_size=(3,3), padding='same', activation='relu'),\n",
    "        Conv2D(filters=32, kernel_size=(3,3), padding='same', activation='relu'),\n",
    "        Conv2D(filters=32, kernel_size=(3,3), padding='same', activation='relu'),\n",
    "        MaxPooling2D(pool_size=(2, 2)),\n",
    "        Conv2D(filters=32, kernel_size=(3,3), padding='same', activation='relu'),\n",
    "        Conv2D(filters=32, kernel_size=(3,3), padding='same', activation='relu'),\n",
    "        Conv2D(filters=64, kernel_size=(3,3), padding='same', activation='relu'),\n",
    "        MaxPooling2D(pool_size=(2, 2)),\n",
    "        Conv2D(filters=64, kernel_size=(3,3), padding='same', activation='relu'),\n",
    "        Conv2D(filters=64, kernel_size=(3,3), padding='same', activation='relu'),\n",
    "        Conv2D(filters=64, kernel_size=(3,3), padding='valid', activation='relu'),\n",
    "        MaxPooling2D(pool_size=(2, 2)),\n",
    "        Dropout(0.5),\n",
    "        Flatten(),\n",
    "        Dense(1024, activation='relu'),\n",
    "        Dropout(0.5),\n",
    "        Dense(num_classes, activation='softmax')\n",
    "    ])\n",
    "\n",
    "    model.compile(\n",
    "        optimizer='adam',#(learning_rate=0.005),\n",
    "        loss='sparse_categorical_crossentropy',\n",
    "        metrics=['accuracy']\n",
    "        )\n",
    "    return model"
   ]
  },
  {
   "cell_type": "code",
   "execution_count": null,
   "id": "cf44e686",
   "metadata": {
    "scrolled": false
   },
   "outputs": [],
   "source": [
    "# Build the model using the build_model function\n",
    "model=build_model()"
   ]
  },
  {
   "cell_type": "code",
   "execution_count": null,
   "id": "0e6e0592",
   "metadata": {
    "scrolled": false
   },
   "outputs": [],
   "source": [
    "# Show a summary of the model\n",
    "model.summary()"
   ]
  },
  {
   "cell_type": "markdown",
   "id": "225fede4",
   "metadata": {},
   "source": [
    "### Train the model"
   ]
  },
  {
   "cell_type": "code",
   "execution_count": null,
   "id": "496529dc",
   "metadata": {
    "scrolled": false
   },
   "outputs": [],
   "source": [
    "# Train the model\n",
    "#with tf.device(\"/device:GPU:0\"):\n",
    "hist=model.fit(\n",
    "aug_train_dataset, \n",
    "validation_data=val_dataset, \n",
    "verbose=1,\n",
    "epochs=5)"
   ]
  },
  {
   "cell_type": "code",
   "execution_count": null,
   "id": "4d4d6b89",
   "metadata": {
    "scrolled": false
   },
   "outputs": [],
   "source": [
    "# Plotting training loss and accuracy as well as validation loss and accuracy over the number of epochs\n",
    "hist_dict = hist.history\n",
    "\n",
    "# obtain the accuracy and loss of the training set and verification set in the returned\n",
    "train_acc = hist.history['accuracy']\n",
    "val_acc = hist.history['val_accuracy']\n",
    "train_loss = hist.history['loss']\n",
    "val_loss = hist.history['val_loss']\n",
    "\n",
    "epochs = range(1, len(train_acc)+1)\n",
    "plt.plot(epochs, train_acc, 'bo', label = 'Training acc')\n",
    "plt.plot(epochs, val_acc, 'r', label = 'Validation acc')\n",
    "plt.title('Training and validation accuracy')\n",
    "plt.legend() # show legend \n",
    "plt.xlabel('Epochs')\n",
    "plt.ylabel('Accuracy')\n",
    "plt.show()\n",
    "plt.figure()\n",
    "\n",
    "plt.plot(epochs, train_loss, 'bo', label = 'Training loss')\n",
    "plt.plot(epochs, val_loss, 'r', label = 'Validation loss')\n",
    "plt.title('Training and validation loss')\n",
    "plt.legend()\n",
    "plt.xlabel('Epochs')\n",
    "plt.ylabel('Loss')"
   ]
  },
  {
   "cell_type": "markdown",
   "id": "9bd08c2d",
   "metadata": {},
   "source": [
    "### Evaluating the model (based on code from TM358)"
   ]
  },
  {
   "cell_type": "code",
   "execution_count": null,
   "id": "a5598c2b",
   "metadata": {
    "scrolled": false
   },
   "outputs": [],
   "source": [
    "model.evaluate(test_dataset, return_dict=True)"
   ]
  },
  {
   "cell_type": "code",
   "execution_count": null,
   "id": "10bd5aff",
   "metadata": {
    "scrolled": false
   },
   "outputs": [],
   "source": [
    "test_predictions=model.predict(test_dataset)\n",
    "test_predictions.shape"
   ]
  },
  {
   "cell_type": "code",
   "execution_count": null,
   "id": "7afa1c50",
   "metadata": {},
   "outputs": [],
   "source": [
    "predict_labels = np.argmax(test_predictions, axis=1)\n",
    "predict_labels.shape"
   ]
  },
  {
   "cell_type": "code",
   "execution_count": null,
   "id": "25ebe233",
   "metadata": {
    "scrolled": false
   },
   "outputs": [],
   "source": [
    "actual_labels=np.array(list(test_dataset.unbatch().map(lambda x,y: y).as_numpy_iterator()))\n",
    "#actual_labels=class_names\n",
    "actual_labels=np.argmax(actual_labels, axis=0)\n",
    "#actual_labels.shape\n",
    "#actual_labels\n",
    "print(actual_labels)"
   ]
  },
  {
   "cell_type": "code",
   "execution_count": null,
   "id": "d4a94456",
   "metadata": {},
   "outputs": [],
   "source": [
    "#  actual_label = LABEL_TEXT[test_labels[i]]"
   ]
  },
  {
   "cell_type": "code",
   "execution_count": null,
   "id": "f3b07c11",
   "metadata": {
    "scrolled": false
   },
   "outputs": [],
   "source": [
    "sample_imgs, sample_labels = test_dataset.as_numpy_iterator().next()\n",
    "sample_imgs.shape, sample_labels.shape, sample_labels"
   ]
  },
  {
   "cell_type": "code",
   "execution_count": null,
   "id": "a3360374",
   "metadata": {
    "scrolled": false
   },
   "outputs": [],
   "source": [
    "sample_predictions = model(sample_imgs)\n",
    "# View the true and predicted labels of sample images\n",
    "plt.figure(figsize=(15,15))\n",
    "for i in range(15):\n",
    "    plt.subplot(5,5,i+1)\n",
    "    plt.xticks([])\n",
    "    plt.yticks([])\n",
    "    plt.grid(False)\n",
    "    plt.imshow(sample_imgs[i].astype(\"uint8\"))\n",
    "    #plt.imshow(sample_imgs[i])\n",
    "    p_class = np.argmax(sample_predictions[i])\n",
    "    a_class = np.argmax(sample_labels[i])#sample\n",
    "    #plt.title(f\"P: {class_names[p_class]}\\n(A: {class_names[a_class]})\",\n",
    "    plt.title(f\"P: {class_names[p_class]}\\n(A: {class_names[a_class]})\",# class_names[a_class]\n",
    "    color=(\"green\" if p_class == a_class else \"red\"))\n",
    "    plt.axis(\"off\")\n",
    "plt.show()"
   ]
  },
  {
   "cell_type": "code",
   "execution_count": null,
   "id": "e2fac57c",
   "metadata": {},
   "outputs": [],
   "source": []
  }
 ],
 "metadata": {
  "kernelspec": {
   "display_name": "Python 3 (ipykernel)",
   "language": "python",
   "name": "python3"
  },
  "language_info": {
   "codemirror_mode": {
    "name": "ipython",
    "version": 3
   },
   "file_extension": ".py",
   "mimetype": "text/x-python",
   "name": "python",
   "nbconvert_exporter": "python",
   "pygments_lexer": "ipython3",
   "version": "3.9.16"
  }
 },
 "nbformat": 4,
 "nbformat_minor": 5
}
