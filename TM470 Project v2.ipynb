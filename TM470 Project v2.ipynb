{
 "cells": [
  {
   "cell_type": "markdown",
   "id": "cbe037b9",
   "metadata": {},
   "source": [
    "TM470 Project - Automating the Identification of UK Coarse Fish"
   ]
  },
  {
   "cell_type": "code",
   "execution_count": 2,
   "id": "2c501176",
   "metadata": {},
   "outputs": [],
   "source": [
    "import tensorflow as tf\n",
    "import kaggle\n",
    "import pandas as pd\n",
    "import os\n",
    "import numpy\n",
    "import pathlib\n",
    "import xml.etree.ElementTree as et # https://docs.python.org/3/library/xml.etree.elementtree.html\n",
    "from tensorflow.python.client import device_lib #for detection of devices\n",
    "import glob as glob"
   ]
  },
  {
   "cell_type": "markdown",
   "id": "018b4078",
   "metadata": {},
   "source": [
    "Is TF using GPU acceleration from inside python shell."
   ]
  },
  {
   "cell_type": "code",
   "execution_count": 3,
   "id": "0551ad11",
   "metadata": {},
   "outputs": [
    {
     "name": "stdout",
     "output_type": "stream",
     "text": [
      "Default GPU device:/device:GPU:0\n"
     ]
    }
   ],
   "source": [
    "# Is TF using GPU?\n",
    "if tf.test.gpu_device_name():\n",
    "    print('Default GPU device:{}'.format(tf.test.gpu_device_name()))\n",
    "else:\n",
    "    print(\"Please install GPU version of TF\")"
   ]
  },
  {
   "cell_type": "code",
   "execution_count": 4,
   "id": "0125d0f8",
   "metadata": {},
   "outputs": [
    {
     "name": "stdout",
     "output_type": "stream",
     "text": [
      "Num GPUs Available:  1\n"
     ]
    }
   ],
   "source": [
    "# Number of GPU's available\n",
    "print(\"Num GPUs Available: \", len(tf.config.list_physical_devices('GPU')))"
   ]
  },
  {
   "cell_type": "code",
   "execution_count": 5,
   "id": "ad0ea3fb",
   "metadata": {},
   "outputs": [
    {
     "name": "stdout",
     "output_type": "stream",
     "text": [
      "[name: \"/device:CPU:0\"\n",
      "device_type: \"CPU\"\n",
      "memory_limit: 268435456\n",
      "locality {\n",
      "}\n",
      "incarnation: 12781066816868087838\n",
      ", name: \"/device:GPU:0\"\n",
      "device_type: \"GPU\"\n",
      "memory_limit: 6925844480\n",
      "locality {\n",
      "  bus_id: 1\n",
      "  links {\n",
      "  }\n",
      "}\n",
      "incarnation: 5568101826386417278\n",
      "physical_device_desc: \"device: 0, name: NVIDIA GeForce GTX 1070 Ti, pci bus id: 0000:06:00.0, compute capability: 6.1\"\n",
      "]\n"
     ]
    }
   ],
   "source": [
    "# Details of CPU and GPU from the device library (device_lib)\n",
    "print(device_lib.list_local_devices())"
   ]
  },
  {
   "cell_type": "code",
   "execution_count": 6,
   "id": "c60b8a01",
   "metadata": {},
   "outputs": [
    {
     "name": "stdout",
     "output_type": "stream",
     "text": [
      "ref                  title                                          size  lastUpdated          downloadCount  voteCount  usabilityRating  \n",
      "-------------------  --------------------------------------------  -----  -------------------  -------------  ---------  ---------------  \n",
      "jorritvenema/affine  AFFiNe - Angling Freshwater Fish Netherlands  525MB  2022-05-12 06:47:10             97          6  0.875            \n"
     ]
    }
   ],
   "source": [
    "# List AFFiNe dataset from Kaggle datasets\n",
    "!kaggle datasets list -s jorritvenema/AFFiNe"
   ]
  },
  {
   "cell_type": "code",
   "execution_count": 7,
   "id": "2a05f715",
   "metadata": {},
   "outputs": [
    {
     "name": "stdout",
     "output_type": "stream",
     "text": [
      "name         size  creationDate         \n",
      "-----------  ----  -------------------  \n",
      "readme.txt    1KB  2022-05-12 06:47:10  \n",
      "license.txt  281B  2022-05-12 06:47:10  \n"
     ]
    }
   ],
   "source": [
    "# List files in the AFFiNe dataset through Kaggle api\n",
    "!kaggle datasets files jorritvenema/AFFiNe"
   ]
  },
  {
   "cell_type": "code",
   "execution_count": 8,
   "id": "334dc496",
   "metadata": {},
   "outputs": [],
   "source": [
    "# Download and unzip dataset folder (only run once)\n",
    "#!kaggle datasets download jorritvenema/AFFiNe --unzip"
   ]
  },
  {
   "cell_type": "code",
   "execution_count": 9,
   "id": "0881c6d9",
   "metadata": {},
   "outputs": [],
   "source": [
    "# Dataset address is C:\\Users\\Rob\\Dataset\n",
    "datasetPath = (r'C:\\Users\\Rob\\Dataset')"
   ]
  },
  {
   "cell_type": "code",
   "execution_count": 10,
   "id": "d7a79cc3",
   "metadata": {},
   "outputs": [],
   "source": [
    "#testDatasetPath = (r'C:\\Users\\Rob\\Dataset\\test_folder\\test_xml.xml')\n",
    "#tree = et.parse(testDatasetPath)\n",
    "#root = tree.getroot()\n",
    "#print(root)"
   ]
  },
  {
   "cell_type": "code",
   "execution_count": 11,
   "id": "23eba482",
   "metadata": {},
   "outputs": [
    {
     "data": {
      "text/html": [
       "<div>\n",
       "<style scoped>\n",
       "    .dataframe tbody tr th:only-of-type {\n",
       "        vertical-align: middle;\n",
       "    }\n",
       "\n",
       "    .dataframe tbody tr th {\n",
       "        vertical-align: top;\n",
       "    }\n",
       "\n",
       "    .dataframe thead th {\n",
       "        text-align: right;\n",
       "    }\n",
       "</style>\n",
       "<table border=\"1\" class=\"dataframe\">\n",
       "  <thead>\n",
       "    <tr style=\"text-align: right;\">\n",
       "      <th></th>\n",
       "      <th>folder</th>\n",
       "      <th>filename</th>\n",
       "      <th>path</th>\n",
       "      <th>source</th>\n",
       "      <th>size</th>\n",
       "      <th>segmented</th>\n",
       "      <th>object</th>\n",
       "    </tr>\n",
       "  </thead>\n",
       "  <tbody>\n",
       "    <tr>\n",
       "      <th>0</th>\n",
       "      <td>D:\\AI\\SVR-dataset\\2022-02\\2. public\\dataset\\Ab...</td>\n",
       "      <td>00a7b0d4-8136-44f3-9e06-9972c1d42039-520mm.jpg</td>\n",
       "      <td>D:\\AI\\SVR-dataset\\2022-02\\2. public\\dataset\\Ab...</td>\n",
       "      <td>NaN</td>\n",
       "      <td>NaN</td>\n",
       "      <td>0</td>\n",
       "      <td>NaN</td>\n",
       "    </tr>\n",
       "  </tbody>\n",
       "</table>\n",
       "</div>"
      ],
      "text/plain": [
       "                                              folder  \\\n",
       "0  D:\\AI\\SVR-dataset\\2022-02\\2. public\\dataset\\Ab...   \n",
       "\n",
       "                                         filename  \\\n",
       "0  00a7b0d4-8136-44f3-9e06-9972c1d42039-520mm.jpg   \n",
       "\n",
       "                                                path  source  size  segmented  \\\n",
       "0  D:\\AI\\SVR-dataset\\2022-02\\2. public\\dataset\\Ab...     NaN   NaN          0   \n",
       "\n",
       "   object  \n",
       "0     NaN  "
      ]
     },
     "execution_count": 11,
     "metadata": {},
     "output_type": "execute_result"
    }
   ],
   "source": [
    "# Reading the test xml\n",
    "pd.read_xml(datasetPath + r'\\test_folder\\test_xml.xml',xpath='//annotation')"
   ]
  },
  {
   "cell_type": "code",
   "execution_count": 59,
   "id": "383ddc9b",
   "metadata": {},
   "outputs": [],
   "source": [
    "# From https://copyprogramming.com/howto/parse-xml-files-in-root-folder-and-its-sub-folders\n",
    "#path = (datasetPath)\n",
    "#filelist = []\n",
    "#for root, dirs, files in os.walk(path):\n",
    "#    for file in files:\n",
    "#        if not file.endswith('.xml'):\n",
    "#            continue\n",
    "#        filelist.append(os.path.join(root, file))\n",
    "#for file in filelist:\n",
    "   # parse XML files\n",
    "   # print(pd.read_xml(file))\n",
    "    "
   ]
  },
  {
   "cell_type": "code",
   "execution_count": 13,
   "id": "39883d4d",
   "metadata": {},
   "outputs": [],
   "source": [
    "dat_dir = pathlib.Path(datasetPath).with_suffix('')\n",
    "# print(data_dir)"
   ]
  },
  {
   "cell_type": "code",
   "execution_count": 16,
   "id": "cca453ea",
   "metadata": {},
   "outputs": [
    {
     "name": "stdout",
     "output_type": "stream",
     "text": [
      "7482\n"
     ]
    }
   ],
   "source": [
    "image_count = len(list(dat_dir.glob('*/*.jpg')))\n",
    "print(image_count)"
   ]
  },
  {
   "cell_type": "code",
   "execution_count": null,
   "id": "243163a9",
   "metadata": {},
   "outputs": [],
   "source": []
  }
 ],
 "metadata": {
  "kernelspec": {
   "display_name": "Python 3 (ipykernel)",
   "language": "python",
   "name": "python3"
  },
  "language_info": {
   "codemirror_mode": {
    "name": "ipython",
    "version": 3
   },
   "file_extension": ".py",
   "mimetype": "text/x-python",
   "name": "python",
   "nbconvert_exporter": "python",
   "pygments_lexer": "ipython3",
   "version": "3.9.16"
  }
 },
 "nbformat": 4,
 "nbformat_minor": 5
}
