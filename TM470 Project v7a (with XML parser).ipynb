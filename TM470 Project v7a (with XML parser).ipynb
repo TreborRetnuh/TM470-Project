{
 "cells": [
  {
   "cell_type": "markdown",
   "id": "cbe037b9",
   "metadata": {},
   "source": [
    "# TM470 Project - Automating the Identification of UK Coarse Fish"
   ]
  },
  {
   "cell_type": "code",
   "execution_count": null,
   "id": "2c501176",
   "metadata": {
    "scrolled": false
   },
   "outputs": [],
   "source": [
    "import tensorflow as tf\n",
    "import kaggle\n",
    "import pandas as pd\n",
    "import os\n",
    "import numpy as np\n",
    "import pathlib\n",
    "import matplotlib\n",
    "import matplotlib.pyplot as plt\n",
    "import xml.etree.ElementTree as et # https://docs.python.org/3/library/xml.etree.elementtree.html\n",
    "from tensorflow.python.client import device_lib #for detection of devices\n",
    "from tensorflow.keras import Sequential, optimizers, metrics, layers\n",
    "# for model\n",
    "from keras.layers import Dense, Dropout, Activation, Flatten\n",
    "from keras.layers import Conv2D, MaxPooling2D\n",
    "import glob as glob"
   ]
  },
  {
   "cell_type": "code",
   "execution_count": null,
   "id": "6641c79e",
   "metadata": {
    "scrolled": false
   },
   "outputs": [],
   "source": [
    "# TensorFlow version\n",
    "print(tf.__version__)"
   ]
  },
  {
   "cell_type": "markdown",
   "id": "018b4078",
   "metadata": {},
   "source": [
    "### 3 Is TF using GPU acceleration from inside python shell."
   ]
  },
  {
   "cell_type": "code",
   "execution_count": null,
   "id": "0551ad11",
   "metadata": {
    "scrolled": false
   },
   "outputs": [],
   "source": [
    "# Is TF using GPU?\n",
    "if tf.test.gpu_device_name():\n",
    "    print('Default GPU device:{}'.format(tf.test.gpu_device_name()))\n",
    "else:\n",
    "    print(\"Please install GPU version of TF\")\n",
    "# Number of GPU's available\n",
    "print(\"Num GPUs Available: \", len(tf.config.list_physical_devices('GPU')))\n",
    "# Details of CPU and GPU from the device library (device_lib)\n",
    "print(device_lib.list_local_devices())"
   ]
  },
  {
   "cell_type": "markdown",
   "id": "e1fadafc",
   "metadata": {},
   "source": [
    "### AFFiNe dataset from Kaggle (list, download and unzip)"
   ]
  },
  {
   "cell_type": "code",
   "execution_count": null,
   "id": "c60b8a01",
   "metadata": {
    "scrolled": false
   },
   "outputs": [],
   "source": [
    "# List AFFiNe dataset from Kaggle datasets\n",
    "!kaggle datasets list -s jorritvenema/AFFiNe\n",
    "# List files in the AFFiNe dataset through Kaggle api\n",
    "!kaggle datasets files jorritvenema/AFFiNe"
   ]
  },
  {
   "cell_type": "code",
   "execution_count": null,
   "id": "334dc496",
   "metadata": {
    "scrolled": false
   },
   "outputs": [],
   "source": [
    "# Download and unzip dataset folder (only run once)\n",
    "#!kaggle datasets download jorritvenema/AFFiNe --unzip"
   ]
  },
  {
   "cell_type": "markdown",
   "id": "7b18c160",
   "metadata": {},
   "source": [
    "# Get class names and bound box information from XML files using the parser"
   ]
  },
  {
   "cell_type": "code",
   "execution_count": null,
   "id": "21f5f6b0",
   "metadata": {
    "scrolled": false
   },
   "outputs": [],
   "source": [
    "# Dataset address is C:\\\\Users\\\\Rob\\\\Dataset\n",
    "datasetPath = (r'C:\\\\Users\\\\Rob\\\\Dataset')"
   ]
  },
  {
   "cell_type": "code",
   "execution_count": null,
   "id": "42f902a3",
   "metadata": {
    "scrolled": false
   },
   "outputs": [],
   "source": [
    "# Assigning dataset path to pathlib\n",
    "dat_dir = pathlib.Path(datasetPath).with_suffix('')\n",
    "print(dat_dir)"
   ]
  },
  {
   "cell_type": "code",
   "execution_count": null,
   "id": "2d7ad9b7",
   "metadata": {
    "scrolled": false
   },
   "outputs": [],
   "source": [
    "# Number of images in dataset\n",
    "image_count = len(list(dat_dir.glob('*/*.jpg'))) # is this how datasetPath should be?\n",
    "print(image_count)"
   ]
  },
  {
   "cell_type": "code",
   "execution_count": null,
   "id": "82eb9099",
   "metadata": {
    "scrolled": false
   },
   "outputs": [],
   "source": [
    "# Reading the information in the XML files and extracting names/bounding box info\n",
    "path = (dat_dir)\n",
    "filelist = []\n",
    "list1 = list()\n",
    "list2 = list()\n",
    "for root, dirs, files in os.walk(path):\n",
    "    for file in files:\n",
    "        if not file.endswith('.xml'):\n",
    "            continue\n",
    "        filelist.append(os.path.join(root, file))\n",
    "for file in filelist:\n",
    "    root = et.parse(file).getroot() # get the root of the xml\n",
    "# Get class names\n",
    "    for className in root.findall('.//object'):\n",
    "       class_name = className.find('name').text\n",
    "       data = np.array([class_name])\n",
    "       list1.append(data)\n",
    "# Get bounding box information\n",
    "    for bndBox in root.findall('.//object'):\n",
    "       bounding_box = bndBox.find('bndbox').text\n",
    "       xmin = int(bndBox.find('./bndbox/xmin').text)\n",
    "       ymin = int(bndBox.find('./bndbox/ymin').text)\n",
    "       xmax = int(bndBox.find('./bndbox/xmax').text)\n",
    "       ymax = int(bndBox.find('./bndbox/ymax').text)\n",
    "       data2 = np.array([xmin,ymin,xmax,ymax])\n",
    "       list2.append(data2)  "
   ]
  },
  {
   "cell_type": "code",
   "execution_count": null,
   "id": "4dc86bba",
   "metadata": {
    "scrolled": false
   },
   "outputs": [],
   "source": [
    "# print class names and bounding box info lists (list1 and list2)\n",
    "for i in range (5):\n",
    "    print(list1[i],list2[i])"
   ]
  },
  {
   "cell_type": "markdown",
   "id": "b3f211bd",
   "metadata": {},
   "source": [
    "## Create dataframe (using relative paths, class names and bound box details from XML)"
   ]
  },
  {
   "cell_type": "code",
   "execution_count": null,
   "id": "de3eac5f",
   "metadata": {
    "scrolled": false
   },
   "outputs": [],
   "source": [
    "#list(base_dir.glob('*/*.jpg'))\n",
    "filepaths = list(dat_dir.glob(r'**/*.jpg'))\n",
    "classnames = list1#list(map(lambda x: os.path.split(os.path.split(x)[0])[1], filepaths))\n",
    "boundboxes = list2\n",
    "\n",
    "filepaths = pd.Series(filepaths, name='Filepath').astype(str)#str\n",
    "classnames = pd.Series(classnames, name='Class Name')\n",
    "boundboxes = pd.Series(boundboxes, name='Boundbox')\n",
    "\n",
    "dataframe1 = pd.concat([filepaths , classnames, boundboxes] , axis=1)\n",
    "dataframe1"
   ]
  },
  {
   "cell_type": "code",
   "execution_count": null,
   "id": "543ce822",
   "metadata": {
    "scrolled": false
   },
   "outputs": [],
   "source": [
    "# Useful information on Kaggle:\n",
    "# https://www.kaggle.com/code/reighns/augmentations-data-cleaning-and-bounding-boxes (3 May 23)\n",
    "# Hiding id behing jpg\n",
    "#dataframe1[\"Filepath\"] = dataframe1[\"Filepath\"].apply(lambda x: str(x) + \".jpg\")\n",
    "#dataframe1"
   ]
  },
  {
   "cell_type": "markdown",
   "id": "70948435",
   "metadata": {},
   "source": [
    "# Where to find the test data alternative way\n"
   ]
  },
  {
   "cell_type": "code",
   "execution_count": null,
   "id": "29c1f145",
   "metadata": {
    "scrolled": false
   },
   "outputs": [],
   "source": [
    "# my code\n",
    "# Dataset address is C:\\Users\\Rob\\Dataset\n",
    "# datasetPath = (r'C:\\Users\\Rob\\Dataset')\n",
    "# dat_dir = pathlib.Path(datasetPath).with_suffix('')\n",
    "\n",
    "# A way to split the data\n",
    "# train_dir = os.path.join(dat_dir, 'train')\n",
    "# validation_dir = os.path.join(dat_dir, 'validation')\n",
    "# test_dir = os.path.join(dat_dir, 'test')"
   ]
  },
  {
   "cell_type": "code",
   "execution_count": null,
   "id": "34c1f03f",
   "metadata": {
    "scrolled": false
   },
   "outputs": [],
   "source": [
    "# Assigning dataset path to pathlib\n",
    "print(dat_dir)"
   ]
  },
  {
   "cell_type": "code",
   "execution_count": null,
   "id": "b583ec5d",
   "metadata": {
    "scrolled": false
   },
   "outputs": [],
   "source": [
    "# Number of images in dataset and dataframe1\n",
    "image_count = len(list(dat_dir.glob('*/*.jpg')))\n",
    "image_count_df = len(dataframe1)\n",
    "print(image_count)\n",
    "print(image_count_df)"
   ]
  },
  {
   "cell_type": "code",
   "execution_count": null,
   "id": "65db0e70",
   "metadata": {
    "scrolled": false
   },
   "outputs": [],
   "source": [
    "# The above count for the dataframe is +1, not sure why"
   ]
  },
  {
   "cell_type": "markdown",
   "id": "40170510",
   "metadata": {},
   "source": [
    "# Creating the datasets (how to use dataframe1 created above?)"
   ]
  },
  {
   "cell_type": "code",
   "execution_count": null,
   "id": "0881c6d9",
   "metadata": {
    "scrolled": false
   },
   "outputs": [],
   "source": [
    "# Image size\n",
    "batch_size=16\n",
    "img_height=180\n",
    "img_width=180\n",
    "image_size=(img_height,img_width,3)\n",
    "num_classes = 30"
   ]
  },
  {
   "cell_type": "code",
   "execution_count": null,
   "id": "592c9cfb",
   "metadata": {
    "scrolled": false
   },
   "outputs": [],
   "source": [
    "# Create the training dataset\n",
    "train_dataset = tf.keras.utils.image_dataset_from_directory(\n",
    "  dat_dir,\n",
    "  validation_split=0.2,\n",
    "  subset=\"training\",\n",
    "  seed=123,#none\n",
    "  image_size=(img_height,img_width),\n",
    "  batch_size=batch_size)"
   ]
  },
  {
   "cell_type": "code",
   "execution_count": null,
   "id": "01a6b2e4",
   "metadata": {
    "scrolled": false
   },
   "outputs": [],
   "source": [
    "# Create the validation dataset\n",
    "val_dataset = tf.keras.utils.image_dataset_from_directory(\n",
    "  dat_dir,\n",
    "  validation_split=0.2,\n",
    "  subset=\"validation\",\n",
    "  seed=124,\n",
    "  image_size=(img_height,img_width),\n",
    "  batch_size=batch_size)"
   ]
  },
  {
   "cell_type": "code",
   "execution_count": null,
   "id": "32c254c7",
   "metadata": {
    "scrolled": false
   },
   "outputs": [],
   "source": [
    "# Creating test dataset\n",
    "test_dataset = tf.keras.utils.image_dataset_from_directory(\n",
    "  dat_dir,\n",
    "  #validation_split=0.1,\n",
    "  #subset=\"testing\",\n",
    "  seed=125,\n",
    "  image_size=(img_height,img_width),\n",
    "  batch_size=batch_size)"
   ]
  },
  {
   "cell_type": "code",
   "execution_count": null,
   "id": "3ed93fcd",
   "metadata": {
    "scrolled": false
   },
   "outputs": [],
   "source": [
    "# Assign the class names\n",
    "class_names = test_dataset.class_names\n",
    "#class_names=list1\n",
    "print(class_names) "
   ]
  },
  {
   "cell_type": "code",
   "execution_count": null,
   "id": "dc46603a",
   "metadata": {},
   "outputs": [],
   "source": [
    "# Next two cells for testing\n",
    "sample_imgs, sample_labels = test_dataset.as_numpy_iterator().next()\n",
    "sample_imgs.shape, sample_labels.shape"
   ]
  },
  {
   "cell_type": "code",
   "execution_count": null,
   "id": "b410a8f8",
   "metadata": {},
   "outputs": [],
   "source": [
    "# testing using sample label - to try debug final evaluation\n",
    "plt.figure(figsize=(10,10))\n",
    "for i in range(9):\n",
    "    plt.subplot(3,3,i+1)\n",
    "    plt.imshow(sample_imgs[i].astype(\"uint8\")) #images[i].numpy().astype(\"uint8\"))\n",
    "    plt.xticks([])\n",
    "    plt.yticks([])\n",
    "    plt.grid(False)\n",
    "    plt.title(class_names[sample_labels[i]])\n",
    "plt.show()"
   ]
  },
  {
   "cell_type": "markdown",
   "id": "22aed06a",
   "metadata": {},
   "source": [
    "## My model (based on TM358 EMA model)"
   ]
  },
  {
   "cell_type": "markdown",
   "id": "e5dfdf19",
   "metadata": {},
   "source": [
    "### Data augmentation"
   ]
  },
  {
   "cell_type": "code",
   "execution_count": null,
   "id": "0165686b",
   "metadata": {
    "scrolled": false
   },
   "outputs": [],
   "source": [
    "# Creating the normalisation layer\n",
    "norm_layer = layers.Normalization(input_shape=(image_size))\n",
    "norm_layer.adapt(train_dataset.map(lambda x, y: x))"
   ]
  },
  {
   "cell_type": "code",
   "execution_count": null,
   "id": "c0bf23c6",
   "metadata": {
    "scrolled": false
   },
   "outputs": [],
   "source": [
    "# Creating an augmented subset\n",
    "data_augmentation = tf.keras.Sequential([\n",
    "layers.RandomRotation(0.2),\n",
    "#layers.RandomZoom(height_factor=0.1),\n",
    "layers.RandomFlip(mode='horizontal')\n",
    "])\n",
    "\n",
    "aug_train_dataset = train_dataset.map(lambda x, y: (data_augmentation(x, training=True), y),\n",
    "num_parallel_calls=tf.data.AUTOTUNE)\n",
    "aug_train_dataset = aug_train_dataset.prefetch(buffer_size=tf.data.AUTOTUNE)"
   ]
  },
  {
   "cell_type": "markdown",
   "id": "f4bdb410",
   "metadata": {},
   "source": [
    "### Model creation"
   ]
  },
  {
   "cell_type": "code",
   "execution_count": null,
   "id": "6e99d15d",
   "metadata": {
    "scrolled": false
   },
   "outputs": [],
   "source": [
    "# Define function to create model and compile\n",
    "def build_model():\n",
    "    model = Sequential([\n",
    "        #norm_layer, # to normalise data - making training freeze\n",
    "        Conv2D(filters=16, kernel_size=(3,3), padding='same',\n",
    "        input_shape=image_size, activation='relu'),\n",
    "        Conv2D(filters=16, kernel_size=(3,3), padding='same', activation='relu'),\n",
    "        Conv2D(filters=16, kernel_size=(3,3), padding='same', activation='relu'),\n",
    "        MaxPooling2D(pool_size=(2, 2)),\n",
    "        Conv2D(filters=16, kernel_size=(3,3), padding='same', activation='relu'),\n",
    "        Conv2D(filters=32, kernel_size=(3,3), padding='same', activation='relu'),\n",
    "        Conv2D(filters=32, kernel_size=(3,3), padding='same', activation='relu'),\n",
    "        MaxPooling2D(pool_size=(2, 2)),\n",
    "        Conv2D(filters=32, kernel_size=(3,3), padding='same', activation='relu'),\n",
    "        Conv2D(filters=32, kernel_size=(3,3), padding='same', activation='relu'),\n",
    "        Conv2D(filters=64, kernel_size=(3,3), padding='same', activation='relu'),\n",
    "        MaxPooling2D(pool_size=(2, 2)),\n",
    "        Conv2D(filters=64, kernel_size=(3,3), padding='same', activation='relu'),\n",
    "        Conv2D(filters=64, kernel_size=(3,3), padding='same', activation='relu'),\n",
    "        Conv2D(filters=64, kernel_size=(3,3), padding='valid', activation='relu'),\n",
    "        MaxPooling2D(pool_size=(2, 2)),\n",
    "        Dropout(0.5),\n",
    "        Flatten(),\n",
    "        Dense(1024, activation='relu'),\n",
    "        Dropout(0.5),\n",
    "        Dense(num_classes, activation='softmax')\n",
    "    ])\n",
    "\n",
    "    model.compile(\n",
    "        optimizer='adam',#(learning_rate=0.005),\n",
    "        loss='sparse_categorical_crossentropy',\n",
    "        metrics=['accuracy']\n",
    "        )\n",
    "    return model"
   ]
  },
  {
   "cell_type": "code",
   "execution_count": null,
   "id": "cf44e686",
   "metadata": {
    "scrolled": false
   },
   "outputs": [],
   "source": [
    "# Build the model using the build_model function\n",
    "model=build_model()"
   ]
  },
  {
   "cell_type": "code",
   "execution_count": null,
   "id": "0e6e0592",
   "metadata": {
    "scrolled": false
   },
   "outputs": [],
   "source": [
    "# Show a summary of the model\n",
    "model.summary()"
   ]
  },
  {
   "cell_type": "markdown",
   "id": "225fede4",
   "metadata": {},
   "source": [
    "### Train the model"
   ]
  },
  {
   "cell_type": "code",
   "execution_count": null,
   "id": "496529dc",
   "metadata": {
    "scrolled": false
   },
   "outputs": [],
   "source": [
    "# Train the model\n",
    "#with tf.device(\"/device:GPU:0\"):\n",
    "hist=model.fit(\n",
    "aug_train_dataset, \n",
    "validation_data=val_dataset, \n",
    "verbose=1,\n",
    "epochs=5)"
   ]
  },
  {
   "cell_type": "code",
   "execution_count": null,
   "id": "4d4d6b89",
   "metadata": {
    "scrolled": false
   },
   "outputs": [],
   "source": [
    "# Plotting training loss and accuracy as well as validation loss and accuracy over the number of epochs\n",
    "hist_dict = hist.history\n",
    "\n",
    "# obtain the accuracy and loss of the training set and verification set in the returned\n",
    "train_acc = hist.history['accuracy']\n",
    "val_acc = hist.history['val_accuracy']\n",
    "train_loss = hist.history['loss']\n",
    "val_loss = hist.history['val_loss']\n",
    "\n",
    "epochs = range(1, len(train_acc)+1)\n",
    "plt.plot(epochs, train_acc, 'bo', label = 'Training acc')\n",
    "plt.plot(epochs, val_acc, 'r', label = 'Validation acc')\n",
    "plt.title('Training and validation accuracy')\n",
    "plt.legend() # show legend \n",
    "plt.xlabel('Epochs')\n",
    "plt.ylabel('Accuracy')\n",
    "plt.show()\n",
    "plt.figure()\n",
    "\n",
    "plt.plot(epochs, train_loss, 'bo', label = 'Training loss')\n",
    "plt.plot(epochs, val_loss, 'r', label = 'Validation loss')\n",
    "plt.title('Training and validation loss')\n",
    "plt.legend()\n",
    "plt.xlabel('Epochs')\n",
    "plt.ylabel('Loss')"
   ]
  },
  {
   "cell_type": "markdown",
   "id": "9bd08c2d",
   "metadata": {},
   "source": [
    "### Evaluating the model (based on code from TM358)"
   ]
  },
  {
   "cell_type": "code",
   "execution_count": null,
   "id": "a5598c2b",
   "metadata": {
    "scrolled": false
   },
   "outputs": [],
   "source": [
    "model.evaluate(test_dataset, return_dict=True)"
   ]
  },
  {
   "cell_type": "code",
   "execution_count": null,
   "id": "10bd5aff",
   "metadata": {
    "scrolled": false
   },
   "outputs": [],
   "source": [
    "test_predictions=model.predict(test_dataset)\n",
    "test_predictions.shape"
   ]
  },
  {
   "cell_type": "code",
   "execution_count": null,
   "id": "7afa1c50",
   "metadata": {},
   "outputs": [],
   "source": [
    "predict_labels = np.argmax(test_predictions, axis=1)\n",
    "predict_labels.shape"
   ]
  },
  {
   "cell_type": "code",
   "execution_count": null,
   "id": "25ebe233",
   "metadata": {
    "scrolled": false
   },
   "outputs": [],
   "source": [
    "actual_labels=np.array(list(test_dataset.unbatch().map(lambda x,y: y).as_numpy_iterator()))\n",
    "#actual_labels=class_names\n",
    "actual_labels=np.argmax(actual_labels, axis=0)\n",
    "actual_labels.shape\n",
    "actual_labels\n",
    "#print(actual_labels)"
   ]
  },
  {
   "cell_type": "code",
   "execution_count": null,
   "id": "d4a94456",
   "metadata": {},
   "outputs": [],
   "source": [
    "#  actual_label = LABEL_TEXT[test_labels[i]]"
   ]
  },
  {
   "cell_type": "code",
   "execution_count": null,
   "id": "f3b07c11",
   "metadata": {
    "scrolled": false
   },
   "outputs": [],
   "source": [
    "sample_imgs, sample_labels = test_dataset.as_numpy_iterator().next()\n",
    "sample_imgs.shape, sample_labels.shape, sample_labels"
   ]
  },
  {
   "cell_type": "code",
   "execution_count": null,
   "id": "a3360374",
   "metadata": {
    "scrolled": false
   },
   "outputs": [],
   "source": [
    "sample_predictions = model(sample_imgs)\n",
    "# View the true and predicted labels of sample images\n",
    "plt.figure(figsize=(15,15))\n",
    "for i in range(15):\n",
    "    plt.subplot(5,5,i+1)\n",
    "    plt.xticks([])\n",
    "    plt.yticks([])\n",
    "    plt.grid(False)\n",
    "    plt.imshow(sample_imgs[i].astype(\"uint8\"))\n",
    "    #plt.imshow(sample_imgs[i])\n",
    "    p_class = np.argmax(sample_predictions[i])\n",
    "    a_class = np.argmax(sample_labels[i])#sample\n",
    "    #plt.title(f\"P: {class_names[p_class]}\\n(A: {class_names[a_class]})\",\n",
    "    plt.title(f\"P: {class_names[p_class]}\\n(A: {class_names[a_class]})\",# class_names[a_class]\n",
    "    color=(\"green\" if p_class == a_class else \"red\"))\n",
    "    plt.axis(\"off\")\n",
    "plt.show()"
   ]
  },
  {
   "cell_type": "code",
   "execution_count": null,
   "id": "e2fac57c",
   "metadata": {},
   "outputs": [],
   "source": []
  }
 ],
 "metadata": {
  "kernelspec": {
   "display_name": "Python 3 (ipykernel)",
   "language": "python",
   "name": "python3"
  },
  "language_info": {
   "codemirror_mode": {
    "name": "ipython",
    "version": 3
   },
   "file_extension": ".py",
   "mimetype": "text/x-python",
   "name": "python",
   "nbconvert_exporter": "python",
   "pygments_lexer": "ipython3",
   "version": "3.9.16"
  }
 },
 "nbformat": 4,
 "nbformat_minor": 5
}
